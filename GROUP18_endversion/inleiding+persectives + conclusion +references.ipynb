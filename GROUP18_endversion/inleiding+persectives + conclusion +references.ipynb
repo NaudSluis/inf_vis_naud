{
 "cells": [
  {
   "cell_type": "code",
   "execution_count": 2,
   "metadata": {},
   "outputs": [],
   "source": [
    "import numpy as np\n",
    "import plotly.graph_objs as go\n",
    "import plotly.express as px\n",
    "import pandas as pd\n",
    "import matplotlib.pyplot as plt"
   ]
  },
  {
   "cell_type": "code",
   "execution_count": 3,
   "metadata": {},
   "outputs": [],
   "source": [
    "cbs_df = pd.read_csv('cbs_dataset.csv')\n",
    "happy_netherlands = pd.read_csv('happiness_2016_2022_US_NL.csv')"
   ]
  },
  {
   "attachments": {},
   "cell_type": "markdown",
   "metadata": {},
   "source": [
    "# Smiles and lines: Happiness in relation to drug use\n",
    "#### By Sue Zheng, Mike Reiziger, Thomas Elsinga en Naud Sluis"
   ]
  },
  {
   "attachments": {},
   "cell_type": "markdown",
   "metadata": {},
   "source": [
    "### Introduction\n",
    "Analysing databases allows us to gain in-depth and clear insights about different aspects of society. In this study, we will focus on the relationship between happiness and drug use in the countries of the Netherlands and the United States of America; two countries that seem to show opposite trends. By comparing data from these countries, we can gain a better understanding of how drug use and happiness are linked and explain possible differences.\n",
    "\n",
    "After all, the Netherlands is internationally known for its liberal drug policies, especially regarding cannabis. (Babor et al. 2010) This has led to the perspective that drug use and happiness seem to be closely linked in the Netherlands. In the United States of America, another wealthy country in the western world, this relationship between drug use and happiness seems to be less present. Despite strict drug laws, the US still seems to show an upward trend with regard to happiness (Azofeifa et al. 2016). This therefore gives rise to two perspectives, namely that drugs and happiness are linked or that drugs and happiness can be seen separately and have no correlation with each other.\n",
    "\n",
    "To visualise these perspectives, different datasets were chosen. A dataset related to the drug usage per year for the Netherlands (cbs_dataset.csv) and one for the USA (pre_usa.csv). The third dataset shows happiness per year (World Happiness Report). With this dataset, we visualise the given perspectives, possibly providing an answer to these different perspectives. Moreover, this project can contribute to a more nuanced understanding of drug use and happiness. It can help to reduce biases and generalisations by showing that the relationship between these two variables may be context-dependent and may not have a mutual relationship after all. This may have a positive impact on the stigma surrounding drug use and thereby make drug use perceived as less negative."
   ]
  },
  {
   "attachments": {},
   "cell_type": "markdown",
   "metadata": {},
   "source": [
    "### Work distribution\n",
    "\n",
    "Thomas- introduction, help perspective 1\n",
    "\n",
    "Mike- Pre-processing, conclusion, help perspective 2\n",
    "\n",
    "Sue- Perspective 2\n",
    "\n",
    "Naud- Perspective 1"
   ]
  },
  {
   "attachments": {},
   "cell_type": "markdown",
   "metadata": {},
   "source": [
    "# Datasets and pre-processing\n",
    "\n",
    "In our research we use 4 datasets.\n",
    "We used the Happiness ranking published each year by the WHO (World health organization). This dataset contains the ranking of each country adn the scores for the variables that make up this ranking. This dataset was dowloaded from the following site: https://www.kaggle.com/datasets/mathurinache/world-happiness-report?select=2021.csv\n",
    "\n",
    "We used a dataset containg data of drug use in the Netherlands. This dataset is published by CBS and contains the drug use of different age groups, ethnicities, wealth etc. This dataset was dowloaded from the following site: https://www.cbs.nl/nl-nl/cijfers/detail/85457NED\n",
    "\n",
    "We have a dataset pertaining to drug use in the United States published by CDC(Center for disease control) \n",
    "This dataset was dowloaded from the following site: https://www.cdc.gov/nchs/fastats/drug-use-illicit.htm\n",
    "\n",
    "We used a dataset with information about millionaires households in the Netherlands.\n",
    "This dataset was dowloaded from the following site: https://www.cbs.nl/nl-nl/nieuws/2023/17/in-2021-weer-meer-miljonairs\n",
    "\n",
    "The happiness dataset contains 22 variables, 10 of these variables are variables that we can use in our research: \n",
    "\n",
    "* Year \n",
    "\n",
    "* Country \n",
    "\n",
    "* Happiness rank \n",
    "\n",
    "* Happiness score \n",
    "\n",
    "* Economy (GDP per capita) \n",
    "\n",
    "* Social support \n",
    "\n",
    "* Health (life expectancy) \n",
    "\n",
    "* Generosity \n",
    "\n",
    "* Freedom \n",
    "\n",
    "* Trust (Government corruption) \n",
    "To be able to process dit data we changed the names of the variabels in each year so each years uses the same names. After this we merged the years into one files on the countries we needed (Netherlands and USA). \n",
    "\n",
    "The dataset about drug use in Netherlands contains 21 variables. These variables contain different ranges of the following variables:\n",
    "* gender\n",
    "* age\n",
    "* education\n",
    "To be able to process dit data we changed the names to match across the files and we merged the years into 1 file\n",
    "\n",
    "\n",
    "The dataset about drug use in the USA contains 17 variables, these variables contain different age ranges and different backgrounds(ethnicity).\n",
    "To process this data, we only needed the row that contains the total use. the rest of the rows were deleted.\n",
    "\n",
    "\n",
    "The millionaires dataset contains the number of households in the netherlands that has a worth of a million euros or more. This dataset was not altered before use."
   ]
  },
  {
   "attachments": {},
   "cell_type": "markdown",
   "metadata": {},
   "source": [
    "### Perspective one: Happiness and drug use are linked"
   ]
  },
  {
   "attachments": {},
   "cell_type": "markdown",
   "metadata": {},
   "source": [
    "In recent years, you hear it more and more often: drug use in the Netherlands has gone up. RTL Nieuws already reported that on a Sunday in Amsterdam 100 lines of cocaine are snorted per 1,000 inhabitants; so why is it that drug use has risen so much? \n",
    "\n",
    "As mentioned earlier, the law in the Netherlands is very progressive when it comes to drugs. Cannabis is tolerated, and having taken prohibited narcotics is not punishable. It would perhaps be obvious to say that the increased use has to do with the legalisation of cannabis and hashish, however, this law came into force in 1976. To see results of this only now is not very plausible. \n",
    "\n",
    "However, the Netherlands has become happier in recent years; for instance, the Netherlands went from place 6 to 5 in the World Happiness Report (WHR). So a link to drug use could indeed be drawn here. This can also be seen, for instance, in the increased freedom in the Netherlands; the right to make your own life choices. You can also see that especially the most affluent native Dutch have increased in drug use."
   ]
  },
  {
   "attachments": {},
   "cell_type": "markdown",
   "metadata": {},
   "source": [
    "### Argument 1\n"
   ]
  },
  {
   "attachments": {},
   "cell_type": "markdown",
   "metadata": {},
   "source": [
    "Since 2016, the number of highly educated people in the Netherlands has increased by 10% (Hoogst Behaald Onderwijsniveau, 2023). A higher education is linked to greater happiness in 2019 by Ruiu, G., by monetary aspects, among others, but also by a greater chance of getting a job, interpersonal networking and a higher degree of cosmopolitanism. Since 2016, drug use has also increased among the highly educated. This points to a correlation of 0.6 between happiness score and drug use among the highly educated. Or in other words more (of themselves happy) high educated people have started using more drugs."
   ]
  },
  {
   "cell_type": "code",
   "execution_count": 4,
   "metadata": {},
   "outputs": [
    {
     "data": {
      "application/vnd.plotly.v1+json": {
       "config": {
        "plotlyServerURL": "https://plot.ly"
       },
       "data": [
        {
         "name": "happiness score in The Netherlands",
         "type": "scatter",
         "x": [
          2016,
          2017,
          2018,
          2019,
          2020,
          2021,
          2022
         ],
         "y": [
          7.339,
          7.377,
          7.441,
          7.488,
          7.449,
          7.464,
          7.415
         ]
        },
        {
         "name": "18 years or older and highly educated drug usage in the past year in the Netherlands",
         "type": "scatter",
         "x": [
          2016,
          2017,
          2018,
          2019,
          2020,
          2021,
          2022
         ],
         "y": [
          7.5,
          7.9,
          8.7,
          8.8,
          8.6,
          9.6,
          10.1
         ],
         "yaxis": "y2"
        }
       ],
       "layout": {
        "legend": {
         "x": 0.01,
         "xanchor": "left",
         "y": 0.99,
         "yanchor": "top"
        },
        "template": {
         "data": {
          "bar": [
           {
            "error_x": {
             "color": "#2a3f5f"
            },
            "error_y": {
             "color": "#2a3f5f"
            },
            "marker": {
             "line": {
              "color": "#E5ECF6",
              "width": 0.5
             },
             "pattern": {
              "fillmode": "overlay",
              "size": 10,
              "solidity": 0.2
             }
            },
            "type": "bar"
           }
          ],
          "barpolar": [
           {
            "marker": {
             "line": {
              "color": "#E5ECF6",
              "width": 0.5
             },
             "pattern": {
              "fillmode": "overlay",
              "size": 10,
              "solidity": 0.2
             }
            },
            "type": "barpolar"
           }
          ],
          "carpet": [
           {
            "aaxis": {
             "endlinecolor": "#2a3f5f",
             "gridcolor": "white",
             "linecolor": "white",
             "minorgridcolor": "white",
             "startlinecolor": "#2a3f5f"
            },
            "baxis": {
             "endlinecolor": "#2a3f5f",
             "gridcolor": "white",
             "linecolor": "white",
             "minorgridcolor": "white",
             "startlinecolor": "#2a3f5f"
            },
            "type": "carpet"
           }
          ],
          "choropleth": [
           {
            "colorbar": {
             "outlinewidth": 0,
             "ticks": ""
            },
            "type": "choropleth"
           }
          ],
          "contour": [
           {
            "colorbar": {
             "outlinewidth": 0,
             "ticks": ""
            },
            "colorscale": [
             [
              0,
              "#0d0887"
             ],
             [
              0.1111111111111111,
              "#46039f"
             ],
             [
              0.2222222222222222,
              "#7201a8"
             ],
             [
              0.3333333333333333,
              "#9c179e"
             ],
             [
              0.4444444444444444,
              "#bd3786"
             ],
             [
              0.5555555555555556,
              "#d8576b"
             ],
             [
              0.6666666666666666,
              "#ed7953"
             ],
             [
              0.7777777777777778,
              "#fb9f3a"
             ],
             [
              0.8888888888888888,
              "#fdca26"
             ],
             [
              1,
              "#f0f921"
             ]
            ],
            "type": "contour"
           }
          ],
          "contourcarpet": [
           {
            "colorbar": {
             "outlinewidth": 0,
             "ticks": ""
            },
            "type": "contourcarpet"
           }
          ],
          "heatmap": [
           {
            "colorbar": {
             "outlinewidth": 0,
             "ticks": ""
            },
            "colorscale": [
             [
              0,
              "#0d0887"
             ],
             [
              0.1111111111111111,
              "#46039f"
             ],
             [
              0.2222222222222222,
              "#7201a8"
             ],
             [
              0.3333333333333333,
              "#9c179e"
             ],
             [
              0.4444444444444444,
              "#bd3786"
             ],
             [
              0.5555555555555556,
              "#d8576b"
             ],
             [
              0.6666666666666666,
              "#ed7953"
             ],
             [
              0.7777777777777778,
              "#fb9f3a"
             ],
             [
              0.8888888888888888,
              "#fdca26"
             ],
             [
              1,
              "#f0f921"
             ]
            ],
            "type": "heatmap"
           }
          ],
          "heatmapgl": [
           {
            "colorbar": {
             "outlinewidth": 0,
             "ticks": ""
            },
            "colorscale": [
             [
              0,
              "#0d0887"
             ],
             [
              0.1111111111111111,
              "#46039f"
             ],
             [
              0.2222222222222222,
              "#7201a8"
             ],
             [
              0.3333333333333333,
              "#9c179e"
             ],
             [
              0.4444444444444444,
              "#bd3786"
             ],
             [
              0.5555555555555556,
              "#d8576b"
             ],
             [
              0.6666666666666666,
              "#ed7953"
             ],
             [
              0.7777777777777778,
              "#fb9f3a"
             ],
             [
              0.8888888888888888,
              "#fdca26"
             ],
             [
              1,
              "#f0f921"
             ]
            ],
            "type": "heatmapgl"
           }
          ],
          "histogram": [
           {
            "marker": {
             "pattern": {
              "fillmode": "overlay",
              "size": 10,
              "solidity": 0.2
             }
            },
            "type": "histogram"
           }
          ],
          "histogram2d": [
           {
            "colorbar": {
             "outlinewidth": 0,
             "ticks": ""
            },
            "colorscale": [
             [
              0,
              "#0d0887"
             ],
             [
              0.1111111111111111,
              "#46039f"
             ],
             [
              0.2222222222222222,
              "#7201a8"
             ],
             [
              0.3333333333333333,
              "#9c179e"
             ],
             [
              0.4444444444444444,
              "#bd3786"
             ],
             [
              0.5555555555555556,
              "#d8576b"
             ],
             [
              0.6666666666666666,
              "#ed7953"
             ],
             [
              0.7777777777777778,
              "#fb9f3a"
             ],
             [
              0.8888888888888888,
              "#fdca26"
             ],
             [
              1,
              "#f0f921"
             ]
            ],
            "type": "histogram2d"
           }
          ],
          "histogram2dcontour": [
           {
            "colorbar": {
             "outlinewidth": 0,
             "ticks": ""
            },
            "colorscale": [
             [
              0,
              "#0d0887"
             ],
             [
              0.1111111111111111,
              "#46039f"
             ],
             [
              0.2222222222222222,
              "#7201a8"
             ],
             [
              0.3333333333333333,
              "#9c179e"
             ],
             [
              0.4444444444444444,
              "#bd3786"
             ],
             [
              0.5555555555555556,
              "#d8576b"
             ],
             [
              0.6666666666666666,
              "#ed7953"
             ],
             [
              0.7777777777777778,
              "#fb9f3a"
             ],
             [
              0.8888888888888888,
              "#fdca26"
             ],
             [
              1,
              "#f0f921"
             ]
            ],
            "type": "histogram2dcontour"
           }
          ],
          "mesh3d": [
           {
            "colorbar": {
             "outlinewidth": 0,
             "ticks": ""
            },
            "type": "mesh3d"
           }
          ],
          "parcoords": [
           {
            "line": {
             "colorbar": {
              "outlinewidth": 0,
              "ticks": ""
             }
            },
            "type": "parcoords"
           }
          ],
          "pie": [
           {
            "automargin": true,
            "type": "pie"
           }
          ],
          "scatter": [
           {
            "fillpattern": {
             "fillmode": "overlay",
             "size": 10,
             "solidity": 0.2
            },
            "type": "scatter"
           }
          ],
          "scatter3d": [
           {
            "line": {
             "colorbar": {
              "outlinewidth": 0,
              "ticks": ""
             }
            },
            "marker": {
             "colorbar": {
              "outlinewidth": 0,
              "ticks": ""
             }
            },
            "type": "scatter3d"
           }
          ],
          "scattercarpet": [
           {
            "marker": {
             "colorbar": {
              "outlinewidth": 0,
              "ticks": ""
             }
            },
            "type": "scattercarpet"
           }
          ],
          "scattergeo": [
           {
            "marker": {
             "colorbar": {
              "outlinewidth": 0,
              "ticks": ""
             }
            },
            "type": "scattergeo"
           }
          ],
          "scattergl": [
           {
            "marker": {
             "colorbar": {
              "outlinewidth": 0,
              "ticks": ""
             }
            },
            "type": "scattergl"
           }
          ],
          "scattermapbox": [
           {
            "marker": {
             "colorbar": {
              "outlinewidth": 0,
              "ticks": ""
             }
            },
            "type": "scattermapbox"
           }
          ],
          "scatterpolar": [
           {
            "marker": {
             "colorbar": {
              "outlinewidth": 0,
              "ticks": ""
             }
            },
            "type": "scatterpolar"
           }
          ],
          "scatterpolargl": [
           {
            "marker": {
             "colorbar": {
              "outlinewidth": 0,
              "ticks": ""
             }
            },
            "type": "scatterpolargl"
           }
          ],
          "scatterternary": [
           {
            "marker": {
             "colorbar": {
              "outlinewidth": 0,
              "ticks": ""
             }
            },
            "type": "scatterternary"
           }
          ],
          "surface": [
           {
            "colorbar": {
             "outlinewidth": 0,
             "ticks": ""
            },
            "colorscale": [
             [
              0,
              "#0d0887"
             ],
             [
              0.1111111111111111,
              "#46039f"
             ],
             [
              0.2222222222222222,
              "#7201a8"
             ],
             [
              0.3333333333333333,
              "#9c179e"
             ],
             [
              0.4444444444444444,
              "#bd3786"
             ],
             [
              0.5555555555555556,
              "#d8576b"
             ],
             [
              0.6666666666666666,
              "#ed7953"
             ],
             [
              0.7777777777777778,
              "#fb9f3a"
             ],
             [
              0.8888888888888888,
              "#fdca26"
             ],
             [
              1,
              "#f0f921"
             ]
            ],
            "type": "surface"
           }
          ],
          "table": [
           {
            "cells": {
             "fill": {
              "color": "#EBF0F8"
             },
             "line": {
              "color": "white"
             }
            },
            "header": {
             "fill": {
              "color": "#C8D4E3"
             },
             "line": {
              "color": "white"
             }
            },
            "type": "table"
           }
          ]
         },
         "layout": {
          "annotationdefaults": {
           "arrowcolor": "#2a3f5f",
           "arrowhead": 0,
           "arrowwidth": 1
          },
          "autotypenumbers": "strict",
          "coloraxis": {
           "colorbar": {
            "outlinewidth": 0,
            "ticks": ""
           }
          },
          "colorscale": {
           "diverging": [
            [
             0,
             "#8e0152"
            ],
            [
             0.1,
             "#c51b7d"
            ],
            [
             0.2,
             "#de77ae"
            ],
            [
             0.3,
             "#f1b6da"
            ],
            [
             0.4,
             "#fde0ef"
            ],
            [
             0.5,
             "#f7f7f7"
            ],
            [
             0.6,
             "#e6f5d0"
            ],
            [
             0.7,
             "#b8e186"
            ],
            [
             0.8,
             "#7fbc41"
            ],
            [
             0.9,
             "#4d9221"
            ],
            [
             1,
             "#276419"
            ]
           ],
           "sequential": [
            [
             0,
             "#0d0887"
            ],
            [
             0.1111111111111111,
             "#46039f"
            ],
            [
             0.2222222222222222,
             "#7201a8"
            ],
            [
             0.3333333333333333,
             "#9c179e"
            ],
            [
             0.4444444444444444,
             "#bd3786"
            ],
            [
             0.5555555555555556,
             "#d8576b"
            ],
            [
             0.6666666666666666,
             "#ed7953"
            ],
            [
             0.7777777777777778,
             "#fb9f3a"
            ],
            [
             0.8888888888888888,
             "#fdca26"
            ],
            [
             1,
             "#f0f921"
            ]
           ],
           "sequentialminus": [
            [
             0,
             "#0d0887"
            ],
            [
             0.1111111111111111,
             "#46039f"
            ],
            [
             0.2222222222222222,
             "#7201a8"
            ],
            [
             0.3333333333333333,
             "#9c179e"
            ],
            [
             0.4444444444444444,
             "#bd3786"
            ],
            [
             0.5555555555555556,
             "#d8576b"
            ],
            [
             0.6666666666666666,
             "#ed7953"
            ],
            [
             0.7777777777777778,
             "#fb9f3a"
            ],
            [
             0.8888888888888888,
             "#fdca26"
            ],
            [
             1,
             "#f0f921"
            ]
           ]
          },
          "colorway": [
           "#636efa",
           "#EF553B",
           "#00cc96",
           "#ab63fa",
           "#FFA15A",
           "#19d3f3",
           "#FF6692",
           "#B6E880",
           "#FF97FF",
           "#FECB52"
          ],
          "font": {
           "color": "#2a3f5f"
          },
          "geo": {
           "bgcolor": "white",
           "lakecolor": "white",
           "landcolor": "#E5ECF6",
           "showlakes": true,
           "showland": true,
           "subunitcolor": "white"
          },
          "hoverlabel": {
           "align": "left"
          },
          "hovermode": "closest",
          "mapbox": {
           "style": "light"
          },
          "paper_bgcolor": "white",
          "plot_bgcolor": "#E5ECF6",
          "polar": {
           "angularaxis": {
            "gridcolor": "white",
            "linecolor": "white",
            "ticks": ""
           },
           "bgcolor": "#E5ECF6",
           "radialaxis": {
            "gridcolor": "white",
            "linecolor": "white",
            "ticks": ""
           }
          },
          "scene": {
           "xaxis": {
            "backgroundcolor": "#E5ECF6",
            "gridcolor": "white",
            "gridwidth": 2,
            "linecolor": "white",
            "showbackground": true,
            "ticks": "",
            "zerolinecolor": "white"
           },
           "yaxis": {
            "backgroundcolor": "#E5ECF6",
            "gridcolor": "white",
            "gridwidth": 2,
            "linecolor": "white",
            "showbackground": true,
            "ticks": "",
            "zerolinecolor": "white"
           },
           "zaxis": {
            "backgroundcolor": "#E5ECF6",
            "gridcolor": "white",
            "gridwidth": 2,
            "linecolor": "white",
            "showbackground": true,
            "ticks": "",
            "zerolinecolor": "white"
           }
          },
          "shapedefaults": {
           "line": {
            "color": "#2a3f5f"
           }
          },
          "ternary": {
           "aaxis": {
            "gridcolor": "white",
            "linecolor": "white",
            "ticks": ""
           },
           "baxis": {
            "gridcolor": "white",
            "linecolor": "white",
            "ticks": ""
           },
           "bgcolor": "#E5ECF6",
           "caxis": {
            "gridcolor": "white",
            "linecolor": "white",
            "ticks": ""
           }
          },
          "title": {
           "x": 0.05
          },
          "xaxis": {
           "automargin": true,
           "gridcolor": "white",
           "linecolor": "white",
           "ticks": "",
           "title": {
            "standoff": 15
           },
           "zerolinecolor": "white",
           "zerolinewidth": 2
          },
          "yaxis": {
           "automargin": true,
           "gridcolor": "white",
           "linecolor": "white",
           "ticks": "",
           "title": {
            "standoff": 15
           },
           "zerolinecolor": "white",
           "zerolinewidth": 2
          }
         }
        },
        "title": {
         "text": "Happiness score and drug usage in the Netherlands"
        },
        "yaxis": {
         "categoryarray": [
          "7.339",
          "7.377",
          "7.415",
          "7.441",
          "7.449",
          "7.464",
          "7.488"
         ],
         "categoryorder": "array",
         "tickformat": ".1f",
         "title": {
          "text": "Happiness Score"
         }
        },
        "yaxis2": {
         "categoryorder": "category ascending",
         "overlaying": "y",
         "side": "right",
         "title": {
          "text": "Drugs Usage (%)"
         }
        }
       }
      }
     },
     "metadata": {},
     "output_type": "display_data"
    }
   ],
   "source": [
    "neth_df = happy_netherlands.loc[happy_netherlands['Country'] == 'Netherlands']\n",
    "fig = go.Figure()\n",
    "\n",
    "fig.add_trace(go.Scatter(\n",
    "    x=np.array(neth_df['Year']),\n",
    "    y=np.array(neth_df['Happiness Score']),\n",
    "    name='happiness score in The Netherlands'\n",
    "))\n",
    "\n",
    "fig.add_trace(go.Scatter(\n",
    "    x=np.array(neth_df['Year']),\n",
    "    # 'Kenmerken' veranderen voor '\\ufeff\"Persoonskenmerken\"', dan werkt ie weer.\n",
    "    y=np.array(cbs_df.loc[cbs_df['\\ufeff\"Persoonskenmerken\"'] == 'Hoog onderwijsniveau']['Drugsgebruik, 12 jaar of ouder/Drugsgebruik totaal/Afgelopen jaar (%)']),\n",
    "    name='18 years or older and highly educated drug usage in the past year in the Netherlands',\n",
    "    yaxis='y2'\n",
    "))\n",
    "\n",
    "fig.update_layout(\n",
    "    legend=dict(\n",
    "    yanchor=\"top\",\n",
    "    y=0.99,\n",
    "    xanchor=\"left\",\n",
    "    x=0.01),\n",
    "\n",
    "    yaxis=dict(\n",
    "        title='Happiness Score',\n",
    "        tickformat=\".1f\",\n",
    "        categoryorder='array',\n",
    "        categoryarray= ['7.339', '7.377', '7.415', '7.441', '7.449', '7.464', '7.488']\n",
    "    ),\n",
    "    yaxis2=dict(\n",
    "        title='Drugs Usage (%)',\n",
    "        overlaying='y',\n",
    "        side='right',\n",
    "        categoryorder='category ascending'\n",
    "    ), \n",
    "    title = \"Happiness score and drug usage in the Netherlands\"\n",
    ")\n",
    "\n",
    "fig.show()\n"
   ]
  },
  {
   "attachments": {},
   "cell_type": "markdown",
   "metadata": {},
   "source": [
    "Figure 1: Happiness score and drug usage in the Netherlands in the years 2016 to 2022"
   ]
  },
  {
   "attachments": {},
   "cell_type": "markdown",
   "metadata": {},
   "source": [
    "Argument 1: The number of highly educated has increased, as has drug use among the highly educated. Also, the highly educated are happier than other education levels. "
   ]
  },
  {
   "attachments": {},
   "cell_type": "markdown",
   "metadata": {},
   "source": [
    "### Argument 2"
   ]
  },
  {
   "attachments": {},
   "cell_type": "markdown",
   "metadata": {},
   "source": [
    "The relationship to be discovered below is about drug use in a country where the use of soft drugs is decriminalised, namely the Netherlands. In this country, we see that drug use among minors is very low compared to the United States. Among adults, on the contrary, we see that drug use has increased enormously, for this target group it is much easier to obtain drugs and it is therefore a lot more accessible to use drugs. In the United States, where drugs are illegal in almost all states, this trend is almost not visible. In the US, drug use among minors is already significantly high and does not significantly increase or decrease after adulthood. Based on this data, it can be argued that better regulation of (soft) drugs causes minors to wait to use drugs and it can be argued that this can contribute to a healthier youth."
   ]
  },
  {
   "cell_type": "code",
   "execution_count": 5,
   "metadata": {},
   "outputs": [
    {
     "data": {
      "application/vnd.plotly.v1+json": {
       "config": {
        "plotlyServerURL": "https://plot.ly"
       },
       "data": [
        {
         "marker": {
          "color": "rgb(141,160,203)"
         },
         "name": "Drug usage USA: 16 tot 17",
         "type": "bar",
         "x": [
          2015,
          2016,
          2017,
          2018,
          2019
         ],
         "y": [
          16.3,
          14.5,
          14.8,
          14.8,
          16.1
         ]
        },
        {
         "marker": {
          "color": "rgb(181,25,99)"
         },
         "name": "Drug usage USA: 26 tot 34",
         "type": "bar",
         "x": [
          2015,
          2016,
          2017,
          2018,
          2019
         ],
         "y": [
          15.4,
          16.8,
          17.4,
          18.9,
          21
         ]
        },
        {
         "marker": {
          "color": "rgb(102,194,165)"
         },
         "name": "Drug usage the Netherlands: 12 till 16",
         "type": "bar",
         "x": [
          2016,
          2017,
          2018,
          2019,
          2020,
          2021,
          2022
         ],
         "y": [
          3.1,
          2.1,
          2,
          2.9,
          3.7,
          1.6,
          2.8
         ]
        },
        {
         "marker": {
          "color": "rgb(252,141,98)"
         },
         "name": "Drug usage the Netherlands: 20 till 30",
         "type": "bar",
         "x": [
          2016,
          2017,
          2018,
          2019,
          2020,
          2021,
          2022
         ],
         "y": [
          24.1,
          26.4,
          25.7,
          25.5,
          27.7,
          29.1,
          29.1
         ]
        }
       ],
       "layout": {
        "autotypenumbers": "convert types",
        "barmode": "group",
        "template": {
         "data": {
          "bar": [
           {
            "error_x": {
             "color": "#2a3f5f"
            },
            "error_y": {
             "color": "#2a3f5f"
            },
            "marker": {
             "line": {
              "color": "#E5ECF6",
              "width": 0.5
             },
             "pattern": {
              "fillmode": "overlay",
              "size": 10,
              "solidity": 0.2
             }
            },
            "type": "bar"
           }
          ],
          "barpolar": [
           {
            "marker": {
             "line": {
              "color": "#E5ECF6",
              "width": 0.5
             },
             "pattern": {
              "fillmode": "overlay",
              "size": 10,
              "solidity": 0.2
             }
            },
            "type": "barpolar"
           }
          ],
          "carpet": [
           {
            "aaxis": {
             "endlinecolor": "#2a3f5f",
             "gridcolor": "white",
             "linecolor": "white",
             "minorgridcolor": "white",
             "startlinecolor": "#2a3f5f"
            },
            "baxis": {
             "endlinecolor": "#2a3f5f",
             "gridcolor": "white",
             "linecolor": "white",
             "minorgridcolor": "white",
             "startlinecolor": "#2a3f5f"
            },
            "type": "carpet"
           }
          ],
          "choropleth": [
           {
            "colorbar": {
             "outlinewidth": 0,
             "ticks": ""
            },
            "type": "choropleth"
           }
          ],
          "contour": [
           {
            "colorbar": {
             "outlinewidth": 0,
             "ticks": ""
            },
            "colorscale": [
             [
              0,
              "#0d0887"
             ],
             [
              0.1111111111111111,
              "#46039f"
             ],
             [
              0.2222222222222222,
              "#7201a8"
             ],
             [
              0.3333333333333333,
              "#9c179e"
             ],
             [
              0.4444444444444444,
              "#bd3786"
             ],
             [
              0.5555555555555556,
              "#d8576b"
             ],
             [
              0.6666666666666666,
              "#ed7953"
             ],
             [
              0.7777777777777778,
              "#fb9f3a"
             ],
             [
              0.8888888888888888,
              "#fdca26"
             ],
             [
              1,
              "#f0f921"
             ]
            ],
            "type": "contour"
           }
          ],
          "contourcarpet": [
           {
            "colorbar": {
             "outlinewidth": 0,
             "ticks": ""
            },
            "type": "contourcarpet"
           }
          ],
          "heatmap": [
           {
            "colorbar": {
             "outlinewidth": 0,
             "ticks": ""
            },
            "colorscale": [
             [
              0,
              "#0d0887"
             ],
             [
              0.1111111111111111,
              "#46039f"
             ],
             [
              0.2222222222222222,
              "#7201a8"
             ],
             [
              0.3333333333333333,
              "#9c179e"
             ],
             [
              0.4444444444444444,
              "#bd3786"
             ],
             [
              0.5555555555555556,
              "#d8576b"
             ],
             [
              0.6666666666666666,
              "#ed7953"
             ],
             [
              0.7777777777777778,
              "#fb9f3a"
             ],
             [
              0.8888888888888888,
              "#fdca26"
             ],
             [
              1,
              "#f0f921"
             ]
            ],
            "type": "heatmap"
           }
          ],
          "heatmapgl": [
           {
            "colorbar": {
             "outlinewidth": 0,
             "ticks": ""
            },
            "colorscale": [
             [
              0,
              "#0d0887"
             ],
             [
              0.1111111111111111,
              "#46039f"
             ],
             [
              0.2222222222222222,
              "#7201a8"
             ],
             [
              0.3333333333333333,
              "#9c179e"
             ],
             [
              0.4444444444444444,
              "#bd3786"
             ],
             [
              0.5555555555555556,
              "#d8576b"
             ],
             [
              0.6666666666666666,
              "#ed7953"
             ],
             [
              0.7777777777777778,
              "#fb9f3a"
             ],
             [
              0.8888888888888888,
              "#fdca26"
             ],
             [
              1,
              "#f0f921"
             ]
            ],
            "type": "heatmapgl"
           }
          ],
          "histogram": [
           {
            "marker": {
             "pattern": {
              "fillmode": "overlay",
              "size": 10,
              "solidity": 0.2
             }
            },
            "type": "histogram"
           }
          ],
          "histogram2d": [
           {
            "colorbar": {
             "outlinewidth": 0,
             "ticks": ""
            },
            "colorscale": [
             [
              0,
              "#0d0887"
             ],
             [
              0.1111111111111111,
              "#46039f"
             ],
             [
              0.2222222222222222,
              "#7201a8"
             ],
             [
              0.3333333333333333,
              "#9c179e"
             ],
             [
              0.4444444444444444,
              "#bd3786"
             ],
             [
              0.5555555555555556,
              "#d8576b"
             ],
             [
              0.6666666666666666,
              "#ed7953"
             ],
             [
              0.7777777777777778,
              "#fb9f3a"
             ],
             [
              0.8888888888888888,
              "#fdca26"
             ],
             [
              1,
              "#f0f921"
             ]
            ],
            "type": "histogram2d"
           }
          ],
          "histogram2dcontour": [
           {
            "colorbar": {
             "outlinewidth": 0,
             "ticks": ""
            },
            "colorscale": [
             [
              0,
              "#0d0887"
             ],
             [
              0.1111111111111111,
              "#46039f"
             ],
             [
              0.2222222222222222,
              "#7201a8"
             ],
             [
              0.3333333333333333,
              "#9c179e"
             ],
             [
              0.4444444444444444,
              "#bd3786"
             ],
             [
              0.5555555555555556,
              "#d8576b"
             ],
             [
              0.6666666666666666,
              "#ed7953"
             ],
             [
              0.7777777777777778,
              "#fb9f3a"
             ],
             [
              0.8888888888888888,
              "#fdca26"
             ],
             [
              1,
              "#f0f921"
             ]
            ],
            "type": "histogram2dcontour"
           }
          ],
          "mesh3d": [
           {
            "colorbar": {
             "outlinewidth": 0,
             "ticks": ""
            },
            "type": "mesh3d"
           }
          ],
          "parcoords": [
           {
            "line": {
             "colorbar": {
              "outlinewidth": 0,
              "ticks": ""
             }
            },
            "type": "parcoords"
           }
          ],
          "pie": [
           {
            "automargin": true,
            "type": "pie"
           }
          ],
          "scatter": [
           {
            "fillpattern": {
             "fillmode": "overlay",
             "size": 10,
             "solidity": 0.2
            },
            "type": "scatter"
           }
          ],
          "scatter3d": [
           {
            "line": {
             "colorbar": {
              "outlinewidth": 0,
              "ticks": ""
             }
            },
            "marker": {
             "colorbar": {
              "outlinewidth": 0,
              "ticks": ""
             }
            },
            "type": "scatter3d"
           }
          ],
          "scattercarpet": [
           {
            "marker": {
             "colorbar": {
              "outlinewidth": 0,
              "ticks": ""
             }
            },
            "type": "scattercarpet"
           }
          ],
          "scattergeo": [
           {
            "marker": {
             "colorbar": {
              "outlinewidth": 0,
              "ticks": ""
             }
            },
            "type": "scattergeo"
           }
          ],
          "scattergl": [
           {
            "marker": {
             "colorbar": {
              "outlinewidth": 0,
              "ticks": ""
             }
            },
            "type": "scattergl"
           }
          ],
          "scattermapbox": [
           {
            "marker": {
             "colorbar": {
              "outlinewidth": 0,
              "ticks": ""
             }
            },
            "type": "scattermapbox"
           }
          ],
          "scatterpolar": [
           {
            "marker": {
             "colorbar": {
              "outlinewidth": 0,
              "ticks": ""
             }
            },
            "type": "scatterpolar"
           }
          ],
          "scatterpolargl": [
           {
            "marker": {
             "colorbar": {
              "outlinewidth": 0,
              "ticks": ""
             }
            },
            "type": "scatterpolargl"
           }
          ],
          "scatterternary": [
           {
            "marker": {
             "colorbar": {
              "outlinewidth": 0,
              "ticks": ""
             }
            },
            "type": "scatterternary"
           }
          ],
          "surface": [
           {
            "colorbar": {
             "outlinewidth": 0,
             "ticks": ""
            },
            "colorscale": [
             [
              0,
              "#0d0887"
             ],
             [
              0.1111111111111111,
              "#46039f"
             ],
             [
              0.2222222222222222,
              "#7201a8"
             ],
             [
              0.3333333333333333,
              "#9c179e"
             ],
             [
              0.4444444444444444,
              "#bd3786"
             ],
             [
              0.5555555555555556,
              "#d8576b"
             ],
             [
              0.6666666666666666,
              "#ed7953"
             ],
             [
              0.7777777777777778,
              "#fb9f3a"
             ],
             [
              0.8888888888888888,
              "#fdca26"
             ],
             [
              1,
              "#f0f921"
             ]
            ],
            "type": "surface"
           }
          ],
          "table": [
           {
            "cells": {
             "fill": {
              "color": "#EBF0F8"
             },
             "line": {
              "color": "white"
             }
            },
            "header": {
             "fill": {
              "color": "#C8D4E3"
             },
             "line": {
              "color": "white"
             }
            },
            "type": "table"
           }
          ]
         },
         "layout": {
          "annotationdefaults": {
           "arrowcolor": "#2a3f5f",
           "arrowhead": 0,
           "arrowwidth": 1
          },
          "autotypenumbers": "strict",
          "coloraxis": {
           "colorbar": {
            "outlinewidth": 0,
            "ticks": ""
           }
          },
          "colorscale": {
           "diverging": [
            [
             0,
             "#8e0152"
            ],
            [
             0.1,
             "#c51b7d"
            ],
            [
             0.2,
             "#de77ae"
            ],
            [
             0.3,
             "#f1b6da"
            ],
            [
             0.4,
             "#fde0ef"
            ],
            [
             0.5,
             "#f7f7f7"
            ],
            [
             0.6,
             "#e6f5d0"
            ],
            [
             0.7,
             "#b8e186"
            ],
            [
             0.8,
             "#7fbc41"
            ],
            [
             0.9,
             "#4d9221"
            ],
            [
             1,
             "#276419"
            ]
           ],
           "sequential": [
            [
             0,
             "#0d0887"
            ],
            [
             0.1111111111111111,
             "#46039f"
            ],
            [
             0.2222222222222222,
             "#7201a8"
            ],
            [
             0.3333333333333333,
             "#9c179e"
            ],
            [
             0.4444444444444444,
             "#bd3786"
            ],
            [
             0.5555555555555556,
             "#d8576b"
            ],
            [
             0.6666666666666666,
             "#ed7953"
            ],
            [
             0.7777777777777778,
             "#fb9f3a"
            ],
            [
             0.8888888888888888,
             "#fdca26"
            ],
            [
             1,
             "#f0f921"
            ]
           ],
           "sequentialminus": [
            [
             0,
             "#0d0887"
            ],
            [
             0.1111111111111111,
             "#46039f"
            ],
            [
             0.2222222222222222,
             "#7201a8"
            ],
            [
             0.3333333333333333,
             "#9c179e"
            ],
            [
             0.4444444444444444,
             "#bd3786"
            ],
            [
             0.5555555555555556,
             "#d8576b"
            ],
            [
             0.6666666666666666,
             "#ed7953"
            ],
            [
             0.7777777777777778,
             "#fb9f3a"
            ],
            [
             0.8888888888888888,
             "#fdca26"
            ],
            [
             1,
             "#f0f921"
            ]
           ]
          },
          "colorway": [
           "#636efa",
           "#EF553B",
           "#00cc96",
           "#ab63fa",
           "#FFA15A",
           "#19d3f3",
           "#FF6692",
           "#B6E880",
           "#FF97FF",
           "#FECB52"
          ],
          "font": {
           "color": "#2a3f5f"
          },
          "geo": {
           "bgcolor": "white",
           "lakecolor": "white",
           "landcolor": "#E5ECF6",
           "showlakes": true,
           "showland": true,
           "subunitcolor": "white"
          },
          "hoverlabel": {
           "align": "left"
          },
          "hovermode": "closest",
          "mapbox": {
           "style": "light"
          },
          "paper_bgcolor": "white",
          "plot_bgcolor": "#E5ECF6",
          "polar": {
           "angularaxis": {
            "gridcolor": "white",
            "linecolor": "white",
            "ticks": ""
           },
           "bgcolor": "#E5ECF6",
           "radialaxis": {
            "gridcolor": "white",
            "linecolor": "white",
            "ticks": ""
           }
          },
          "scene": {
           "xaxis": {
            "backgroundcolor": "#E5ECF6",
            "gridcolor": "white",
            "gridwidth": 2,
            "linecolor": "white",
            "showbackground": true,
            "ticks": "",
            "zerolinecolor": "white"
           },
           "yaxis": {
            "backgroundcolor": "#E5ECF6",
            "gridcolor": "white",
            "gridwidth": 2,
            "linecolor": "white",
            "showbackground": true,
            "ticks": "",
            "zerolinecolor": "white"
           },
           "zaxis": {
            "backgroundcolor": "#E5ECF6",
            "gridcolor": "white",
            "gridwidth": 2,
            "linecolor": "white",
            "showbackground": true,
            "ticks": "",
            "zerolinecolor": "white"
           }
          },
          "shapedefaults": {
           "line": {
            "color": "#2a3f5f"
           }
          },
          "ternary": {
           "aaxis": {
            "gridcolor": "white",
            "linecolor": "white",
            "ticks": ""
           },
           "baxis": {
            "gridcolor": "white",
            "linecolor": "white",
            "ticks": ""
           },
           "bgcolor": "#E5ECF6",
           "caxis": {
            "gridcolor": "white",
            "linecolor": "white",
            "ticks": ""
           }
          },
          "title": {
           "x": 0.05
          },
          "xaxis": {
           "automargin": true,
           "gridcolor": "white",
           "linecolor": "white",
           "ticks": "",
           "title": {
            "standoff": 15
           },
           "zerolinecolor": "white",
           "zerolinewidth": 2
          },
          "yaxis": {
           "automargin": true,
           "gridcolor": "white",
           "linecolor": "white",
           "ticks": "",
           "title": {
            "standoff": 15
           },
           "zerolinecolor": "white",
           "zerolinewidth": 2
          }
         }
        },
        "title": {
         "text": "Drug usage in minors and adults per year in the Netherlands and the USA"
        },
        "xaxis": {
         "tickmode": "linear",
         "title": {
          "text": "Year"
         },
         "type": "category"
        },
        "yaxis": {
         "title": {
          "text": "drug usage (%)"
         }
        }
       }
      }
     },
     "metadata": {},
     "output_type": "display_data"
    }
   ],
   "source": [
    "# Read the CSV file\n",
    "df_ned = pd.read_csv('cbs_dataset.csv')\n",
    "df_usa = pd.read_csv('pre_usa.csv')\n",
    "\n",
    "df_ned_16_20 = df_ned [df_ned ['\\ufeff\"Persoonskenmerken\"'] == 'Leeftijd: 12 tot 16 jaar']\n",
    "df_ned_20_30 = df_ned [df_ned ['\\ufeff\"Persoonskenmerken\"'] == 'Leeftijd: 20 tot 30 jaar']\n",
    "\n",
    "\n",
    "# Create bars, colour and title\n",
    "fig = go.Figure(data=[\n",
    "    go.Bar(name='Drug usage USA: 16 tot 17', x=df_usa['Year'], y=df_usa['16 to 17 years'], marker=dict(color='rgb(141,160,203)')),\n",
    "    go.Bar(name='Drug usage USA: 26 tot 34', x=df_usa['Year'], y=df_usa['26 to 34 years'], marker=dict(color='rgb(181,25,99)')),\n",
    "    go.Bar(name='Drug usage the Netherlands: 12 till 16', x=df_ned_16_20['Perioden'], y=df_ned_16_20['Drugsgebruik, 12 jaar of ouder/Drugsgebruik totaal/Afgelopen jaar (%)'], marker=dict(color='rgb(102,194,165)')),\n",
    "    go.Bar(name='Drug usage the Netherlands: 20 till 30', x=df_ned_20_30['Perioden'], y=df_ned_20_30['Drugsgebruik, 12 jaar of ouder/Drugsgebruik totaal/Afgelopen jaar (%)'], marker=dict(color='rgb(252,141,98)')),\n",
    "])\n",
    "\n",
    "# Graph Design\n",
    "fig.update_layout(title=dict(text='Drug usage in minors and adults per year in the Netherlands and the USA'), \n",
    "    xaxis_type='category', xaxis=dict(title='Year', tickmode='linear'), \n",
    "    yaxis=dict(title='drug usage (%)'),\n",
    "    barmode='group',\n",
    "    autotypenumbers='convert types')"
   ]
  },
  {
   "attachments": {},
   "cell_type": "markdown",
   "metadata": {},
   "source": [
    "Figure 3: Drug usage in minors and adults per year in the Netherlands and the USA"
   ]
  },
  {
   "attachments": {},
   "cell_type": "markdown",
   "metadata": {},
   "source": [
    "### Argument 3"
   ]
  },
  {
   "attachments": {},
   "cell_type": "markdown",
   "metadata": {},
   "source": [
    "In recent years, the number of households with a capital of a million or more in the Netherlands has increased (CBS, 2022). People in the highest wealth group are generally happier than those in a lower wealth group. Also, the most affluent people in the Netherlands also started using more drugs. This suggests a link between happiness and drug use. This is most evident in the years 2019 and 2020, where the number of millionaire households and drug use rise almost proportionally. In 2021, we see a dip in this group of people, which roughly coincides with the COVID-19 crisis and the societal lockdown that took place as a result."
   ]
  },
  {
   "cell_type": "code",
   "execution_count": 6,
   "metadata": {},
   "outputs": [
    {
     "data": {
      "application/vnd.plotly.v1+json": {
       "config": {
        "plotlyServerURL": "https://plot.ly"
       },
       "data": [
        {
         "marker": {
          "color": "rgb(14,140,203)"
         },
         "name": "Total drug use in the highest wealth level",
         "type": "bar",
         "width": [
          0.4,
          0.4,
          0.4,
          0.4,
          0.4,
          0.4,
          0.4
         ],
         "x": [
          2016,
          2017,
          2018,
          2019,
          2020,
          2021,
          2022
         ],
         "y": [
          4.8,
          5,
          4.9,
          5.4,
          6.4,
          5.8,
          7.5
         ]
        },
        {
         "name": "Households with capital > 1.000.000",
         "type": "scatter",
         "x": [
          2016,
          2017,
          2018,
          2019,
          2020,
          2021
         ],
         "y": [
          188.1,
          206.9,
          231.3,
          253.4,
          285.2,
          317.4
         ],
         "yaxis": "y2"
        }
       ],
       "layout": {
        "barmode": "group",
        "legend": {
         "bordercolor": "blue",
         "borderwidth": 1,
         "x": 1,
         "xanchor": "left",
         "y": 1.5,
         "yanchor": "top"
        },
        "template": {
         "data": {
          "bar": [
           {
            "error_x": {
             "color": "#2a3f5f"
            },
            "error_y": {
             "color": "#2a3f5f"
            },
            "marker": {
             "line": {
              "color": "#E5ECF6",
              "width": 0.5
             },
             "pattern": {
              "fillmode": "overlay",
              "size": 10,
              "solidity": 0.2
             }
            },
            "type": "bar"
           }
          ],
          "barpolar": [
           {
            "marker": {
             "line": {
              "color": "#E5ECF6",
              "width": 0.5
             },
             "pattern": {
              "fillmode": "overlay",
              "size": 10,
              "solidity": 0.2
             }
            },
            "type": "barpolar"
           }
          ],
          "carpet": [
           {
            "aaxis": {
             "endlinecolor": "#2a3f5f",
             "gridcolor": "white",
             "linecolor": "white",
             "minorgridcolor": "white",
             "startlinecolor": "#2a3f5f"
            },
            "baxis": {
             "endlinecolor": "#2a3f5f",
             "gridcolor": "white",
             "linecolor": "white",
             "minorgridcolor": "white",
             "startlinecolor": "#2a3f5f"
            },
            "type": "carpet"
           }
          ],
          "choropleth": [
           {
            "colorbar": {
             "outlinewidth": 0,
             "ticks": ""
            },
            "type": "choropleth"
           }
          ],
          "contour": [
           {
            "colorbar": {
             "outlinewidth": 0,
             "ticks": ""
            },
            "colorscale": [
             [
              0,
              "#0d0887"
             ],
             [
              0.1111111111111111,
              "#46039f"
             ],
             [
              0.2222222222222222,
              "#7201a8"
             ],
             [
              0.3333333333333333,
              "#9c179e"
             ],
             [
              0.4444444444444444,
              "#bd3786"
             ],
             [
              0.5555555555555556,
              "#d8576b"
             ],
             [
              0.6666666666666666,
              "#ed7953"
             ],
             [
              0.7777777777777778,
              "#fb9f3a"
             ],
             [
              0.8888888888888888,
              "#fdca26"
             ],
             [
              1,
              "#f0f921"
             ]
            ],
            "type": "contour"
           }
          ],
          "contourcarpet": [
           {
            "colorbar": {
             "outlinewidth": 0,
             "ticks": ""
            },
            "type": "contourcarpet"
           }
          ],
          "heatmap": [
           {
            "colorbar": {
             "outlinewidth": 0,
             "ticks": ""
            },
            "colorscale": [
             [
              0,
              "#0d0887"
             ],
             [
              0.1111111111111111,
              "#46039f"
             ],
             [
              0.2222222222222222,
              "#7201a8"
             ],
             [
              0.3333333333333333,
              "#9c179e"
             ],
             [
              0.4444444444444444,
              "#bd3786"
             ],
             [
              0.5555555555555556,
              "#d8576b"
             ],
             [
              0.6666666666666666,
              "#ed7953"
             ],
             [
              0.7777777777777778,
              "#fb9f3a"
             ],
             [
              0.8888888888888888,
              "#fdca26"
             ],
             [
              1,
              "#f0f921"
             ]
            ],
            "type": "heatmap"
           }
          ],
          "heatmapgl": [
           {
            "colorbar": {
             "outlinewidth": 0,
             "ticks": ""
            },
            "colorscale": [
             [
              0,
              "#0d0887"
             ],
             [
              0.1111111111111111,
              "#46039f"
             ],
             [
              0.2222222222222222,
              "#7201a8"
             ],
             [
              0.3333333333333333,
              "#9c179e"
             ],
             [
              0.4444444444444444,
              "#bd3786"
             ],
             [
              0.5555555555555556,
              "#d8576b"
             ],
             [
              0.6666666666666666,
              "#ed7953"
             ],
             [
              0.7777777777777778,
              "#fb9f3a"
             ],
             [
              0.8888888888888888,
              "#fdca26"
             ],
             [
              1,
              "#f0f921"
             ]
            ],
            "type": "heatmapgl"
           }
          ],
          "histogram": [
           {
            "marker": {
             "pattern": {
              "fillmode": "overlay",
              "size": 10,
              "solidity": 0.2
             }
            },
            "type": "histogram"
           }
          ],
          "histogram2d": [
           {
            "colorbar": {
             "outlinewidth": 0,
             "ticks": ""
            },
            "colorscale": [
             [
              0,
              "#0d0887"
             ],
             [
              0.1111111111111111,
              "#46039f"
             ],
             [
              0.2222222222222222,
              "#7201a8"
             ],
             [
              0.3333333333333333,
              "#9c179e"
             ],
             [
              0.4444444444444444,
              "#bd3786"
             ],
             [
              0.5555555555555556,
              "#d8576b"
             ],
             [
              0.6666666666666666,
              "#ed7953"
             ],
             [
              0.7777777777777778,
              "#fb9f3a"
             ],
             [
              0.8888888888888888,
              "#fdca26"
             ],
             [
              1,
              "#f0f921"
             ]
            ],
            "type": "histogram2d"
           }
          ],
          "histogram2dcontour": [
           {
            "colorbar": {
             "outlinewidth": 0,
             "ticks": ""
            },
            "colorscale": [
             [
              0,
              "#0d0887"
             ],
             [
              0.1111111111111111,
              "#46039f"
             ],
             [
              0.2222222222222222,
              "#7201a8"
             ],
             [
              0.3333333333333333,
              "#9c179e"
             ],
             [
              0.4444444444444444,
              "#bd3786"
             ],
             [
              0.5555555555555556,
              "#d8576b"
             ],
             [
              0.6666666666666666,
              "#ed7953"
             ],
             [
              0.7777777777777778,
              "#fb9f3a"
             ],
             [
              0.8888888888888888,
              "#fdca26"
             ],
             [
              1,
              "#f0f921"
             ]
            ],
            "type": "histogram2dcontour"
           }
          ],
          "mesh3d": [
           {
            "colorbar": {
             "outlinewidth": 0,
             "ticks": ""
            },
            "type": "mesh3d"
           }
          ],
          "parcoords": [
           {
            "line": {
             "colorbar": {
              "outlinewidth": 0,
              "ticks": ""
             }
            },
            "type": "parcoords"
           }
          ],
          "pie": [
           {
            "automargin": true,
            "type": "pie"
           }
          ],
          "scatter": [
           {
            "fillpattern": {
             "fillmode": "overlay",
             "size": 10,
             "solidity": 0.2
            },
            "type": "scatter"
           }
          ],
          "scatter3d": [
           {
            "line": {
             "colorbar": {
              "outlinewidth": 0,
              "ticks": ""
             }
            },
            "marker": {
             "colorbar": {
              "outlinewidth": 0,
              "ticks": ""
             }
            },
            "type": "scatter3d"
           }
          ],
          "scattercarpet": [
           {
            "marker": {
             "colorbar": {
              "outlinewidth": 0,
              "ticks": ""
             }
            },
            "type": "scattercarpet"
           }
          ],
          "scattergeo": [
           {
            "marker": {
             "colorbar": {
              "outlinewidth": 0,
              "ticks": ""
             }
            },
            "type": "scattergeo"
           }
          ],
          "scattergl": [
           {
            "marker": {
             "colorbar": {
              "outlinewidth": 0,
              "ticks": ""
             }
            },
            "type": "scattergl"
           }
          ],
          "scattermapbox": [
           {
            "marker": {
             "colorbar": {
              "outlinewidth": 0,
              "ticks": ""
             }
            },
            "type": "scattermapbox"
           }
          ],
          "scatterpolar": [
           {
            "marker": {
             "colorbar": {
              "outlinewidth": 0,
              "ticks": ""
             }
            },
            "type": "scatterpolar"
           }
          ],
          "scatterpolargl": [
           {
            "marker": {
             "colorbar": {
              "outlinewidth": 0,
              "ticks": ""
             }
            },
            "type": "scatterpolargl"
           }
          ],
          "scatterternary": [
           {
            "marker": {
             "colorbar": {
              "outlinewidth": 0,
              "ticks": ""
             }
            },
            "type": "scatterternary"
           }
          ],
          "surface": [
           {
            "colorbar": {
             "outlinewidth": 0,
             "ticks": ""
            },
            "colorscale": [
             [
              0,
              "#0d0887"
             ],
             [
              0.1111111111111111,
              "#46039f"
             ],
             [
              0.2222222222222222,
              "#7201a8"
             ],
             [
              0.3333333333333333,
              "#9c179e"
             ],
             [
              0.4444444444444444,
              "#bd3786"
             ],
             [
              0.5555555555555556,
              "#d8576b"
             ],
             [
              0.6666666666666666,
              "#ed7953"
             ],
             [
              0.7777777777777778,
              "#fb9f3a"
             ],
             [
              0.8888888888888888,
              "#fdca26"
             ],
             [
              1,
              "#f0f921"
             ]
            ],
            "type": "surface"
           }
          ],
          "table": [
           {
            "cells": {
             "fill": {
              "color": "#EBF0F8"
             },
             "line": {
              "color": "white"
             }
            },
            "header": {
             "fill": {
              "color": "#C8D4E3"
             },
             "line": {
              "color": "white"
             }
            },
            "type": "table"
           }
          ]
         },
         "layout": {
          "annotationdefaults": {
           "arrowcolor": "#2a3f5f",
           "arrowhead": 0,
           "arrowwidth": 1
          },
          "autotypenumbers": "strict",
          "coloraxis": {
           "colorbar": {
            "outlinewidth": 0,
            "ticks": ""
           }
          },
          "colorscale": {
           "diverging": [
            [
             0,
             "#8e0152"
            ],
            [
             0.1,
             "#c51b7d"
            ],
            [
             0.2,
             "#de77ae"
            ],
            [
             0.3,
             "#f1b6da"
            ],
            [
             0.4,
             "#fde0ef"
            ],
            [
             0.5,
             "#f7f7f7"
            ],
            [
             0.6,
             "#e6f5d0"
            ],
            [
             0.7,
             "#b8e186"
            ],
            [
             0.8,
             "#7fbc41"
            ],
            [
             0.9,
             "#4d9221"
            ],
            [
             1,
             "#276419"
            ]
           ],
           "sequential": [
            [
             0,
             "#0d0887"
            ],
            [
             0.1111111111111111,
             "#46039f"
            ],
            [
             0.2222222222222222,
             "#7201a8"
            ],
            [
             0.3333333333333333,
             "#9c179e"
            ],
            [
             0.4444444444444444,
             "#bd3786"
            ],
            [
             0.5555555555555556,
             "#d8576b"
            ],
            [
             0.6666666666666666,
             "#ed7953"
            ],
            [
             0.7777777777777778,
             "#fb9f3a"
            ],
            [
             0.8888888888888888,
             "#fdca26"
            ],
            [
             1,
             "#f0f921"
            ]
           ],
           "sequentialminus": [
            [
             0,
             "#0d0887"
            ],
            [
             0.1111111111111111,
             "#46039f"
            ],
            [
             0.2222222222222222,
             "#7201a8"
            ],
            [
             0.3333333333333333,
             "#9c179e"
            ],
            [
             0.4444444444444444,
             "#bd3786"
            ],
            [
             0.5555555555555556,
             "#d8576b"
            ],
            [
             0.6666666666666666,
             "#ed7953"
            ],
            [
             0.7777777777777778,
             "#fb9f3a"
            ],
            [
             0.8888888888888888,
             "#fdca26"
            ],
            [
             1,
             "#f0f921"
            ]
           ]
          },
          "colorway": [
           "#636efa",
           "#EF553B",
           "#00cc96",
           "#ab63fa",
           "#FFA15A",
           "#19d3f3",
           "#FF6692",
           "#B6E880",
           "#FF97FF",
           "#FECB52"
          ],
          "font": {
           "color": "#2a3f5f"
          },
          "geo": {
           "bgcolor": "white",
           "lakecolor": "white",
           "landcolor": "#E5ECF6",
           "showlakes": true,
           "showland": true,
           "subunitcolor": "white"
          },
          "hoverlabel": {
           "align": "left"
          },
          "hovermode": "closest",
          "mapbox": {
           "style": "light"
          },
          "paper_bgcolor": "white",
          "plot_bgcolor": "#E5ECF6",
          "polar": {
           "angularaxis": {
            "gridcolor": "white",
            "linecolor": "white",
            "ticks": ""
           },
           "bgcolor": "#E5ECF6",
           "radialaxis": {
            "gridcolor": "white",
            "linecolor": "white",
            "ticks": ""
           }
          },
          "scene": {
           "xaxis": {
            "backgroundcolor": "#E5ECF6",
            "gridcolor": "white",
            "gridwidth": 2,
            "linecolor": "white",
            "showbackground": true,
            "ticks": "",
            "zerolinecolor": "white"
           },
           "yaxis": {
            "backgroundcolor": "#E5ECF6",
            "gridcolor": "white",
            "gridwidth": 2,
            "linecolor": "white",
            "showbackground": true,
            "ticks": "",
            "zerolinecolor": "white"
           },
           "zaxis": {
            "backgroundcolor": "#E5ECF6",
            "gridcolor": "white",
            "gridwidth": 2,
            "linecolor": "white",
            "showbackground": true,
            "ticks": "",
            "zerolinecolor": "white"
           }
          },
          "shapedefaults": {
           "line": {
            "color": "#2a3f5f"
           }
          },
          "ternary": {
           "aaxis": {
            "gridcolor": "white",
            "linecolor": "white",
            "ticks": ""
           },
           "baxis": {
            "gridcolor": "white",
            "linecolor": "white",
            "ticks": ""
           },
           "bgcolor": "#E5ECF6",
           "caxis": {
            "gridcolor": "white",
            "linecolor": "white",
            "ticks": ""
           }
          },
          "title": {
           "x": 0.05
          },
          "xaxis": {
           "automargin": true,
           "gridcolor": "white",
           "linecolor": "white",
           "ticks": "",
           "title": {
            "standoff": 15
           },
           "zerolinecolor": "white",
           "zerolinewidth": 2
          },
          "yaxis": {
           "automargin": true,
           "gridcolor": "white",
           "linecolor": "white",
           "ticks": "",
           "title": {
            "standoff": 15
           },
           "zerolinecolor": "white",
           "zerolinewidth": 2
          }
         }
        },
        "title": {
         "text": "Drug usage per year per wealth level"
        },
        "xaxis": {
         "tickmode": "linear",
         "title": {
          "text": "Year"
         },
         "type": "category"
        },
        "yaxis": {
         "categoryorder": "total ascending",
         "title": {
          "text": "Drug usage (%)"
         }
        },
        "yaxis2": {
         "categoryorder": "category ascending",
         "overlaying": "y",
         "side": "right",
         "title": {
          "text": "Amount of households x1000"
         }
        }
       }
      }
     },
     "metadata": {},
     "output_type": "display_data"
    }
   ],
   "source": [
    "# Filter on 'kenmerken'\n",
    "f_df = cbs_df[cbs_df['\\ufeff\"Persoonskenmerken\"'] == 'Vermogen: 4e 20%-groep']\n",
    "fi_df = cbs_df[cbs_df['\\ufeff\"Persoonskenmerken\"'] == 'Vermogen: 5e 20%-groep']\n",
    "miljonairs_df = pd.read_csv('miljoen.csv')\n",
    " \n",
    "# Create bars, colour and title\n",
    "fig = go.Figure(data=[\n",
    "    go.Bar(name='Total drug use in the highest wealth level', x=fi_df['Perioden'], y=fi_df[\"Drugsgebruik, 12 jaar of ouder/Drugsgebruik totaal/Afgelopen jaar (%)\"], marker=dict(color='rgb(14,140,203)'),\n",
    "    width=[0.4, 0.4, 0.4, 0.4, 0.4, 0.4, 0.4]),\n",
    "    go.Scatter(x=np.array(miljonairs_df['Jaar']),\n",
    "    y=np.array(miljonairs_df['In lopende prijzen (x 1 000)']),\n",
    "    name='Households with capital > 1.000.000', yaxis='y2')])\n",
    "\n",
    "# Graph Design\n",
    "fig.update_layout(title=dict(text='Drug usage per year per wealth level'), \n",
    "    legend=dict(\n",
    "    yanchor=\"top\",\n",
    "    y=1.5,\n",
    "    xanchor=\"left\",\n",
    "    x=1,\n",
    "    bordercolor='blue',\n",
    "    borderwidth = 1),\n",
    "    \n",
    "    xaxis_type='category', xaxis=dict(title='Year', tickmode='linear'), \n",
    "    yaxis=dict(title='Drug usage (%)', categoryorder='total ascending'),\n",
    "    yaxis2=dict(\n",
    "        title='Amount of households x1000',\n",
    "        overlaying='y',\n",
    "        side='right',\n",
    "        categoryorder='category ascending'\n",
    "    ),\n",
    "    barmode='group')"
   ]
  },
  {
   "attachments": {},
   "cell_type": "markdown",
   "metadata": {},
   "source": [
    "Figure 3: Drug usage per year per wealth level, with in blue the drug usage of the highest wealth level in percent. In orange you see the amout of household with a capital of more that a million. "
   ]
  },
  {
   "attachments": {},
   "cell_type": "markdown",
   "metadata": {},
   "source": [
    "Argument 3: The amount of household with a capital of more than a million has gone up. Wealthier people are more happy, and as can be seen started using more drugs"
   ]
  },
  {
   "attachments": {},
   "cell_type": "markdown",
   "metadata": {},
   "source": [
    "### Perspective two: Happiness and drug use are not linked\n",
    "\n",
    "The United States is a country that went up and down around 6 places over the last 6 years, but the drug use remained steady. That would mean that there is no connection between happiness and drug use.\n",
    "\n",
    "Over the past six years, the United States has experienced fluctuations in its global happiness ranking among countries. However, despite these ups and downs in rankings, one notable constant has been the steady prevalence of drug use within the country. This observation suggests that there may not be a direct correlation between the level of happiness in a nation and the prevalence of drug use. Like any other country, the United States undergoes various economic, social, and political changes that can influence its overall ranking in terms of happiness and well-being. Factors such as income inequality, access to healthcare, education, social support systems, and political stability all play a role in shaping the nation's overall happiness. Drug use is a complex issue influenced by a multitude of factors, including individual choices, addiction, social environment, and availability of drugs. These factors can persist even as other indicators of well-being fluctuate. Therefore, it is important to consider that happiness and drug use are not necessarily directly linked. \n",
    "\n",
    "In summary, despite fluctuations in the United States' ranking over the past six years, the prevalence of drug use has remained steady. This suggests that there may not be a simple and direct connection between national happiness and drug use. "
   ]
  },
  {
   "attachments": {},
   "cell_type": "markdown",
   "metadata": {},
   "source": [
    "### Argument 1\n",
    "\n",
    "The United States has experienced fluctuations in its happiness rankings over the years 2016 to 2022. However, during this same period, the prevalence of drug use has remained relatively stable. This suggests that there is no consistent connection between a country's happiness ranking and the rate of drug use. If there were a direct correlation between happiness and drug use, we would expect to see similar patterns of fluctuation in both indicators. The lack of a consistent relationship between these variables indicates that other factors beyond happiness rankings play a more significant role in determining drug use prevalence.\n",
    "\n",
    "As u can see in the figure below, the patterns of drug usage in the US and the happiness rankings do not correlate, thus meaning that there is not necessarily a link between happiness and drug usage. \n",
    "\n"
   ]
  },
  {
   "cell_type": "code",
   "execution_count": 16,
   "metadata": {},
   "outputs": [
    {
     "data": {
      "image/png": "[encoded data removed]",
      "text/plain": [
       "<Figure size 1200x800 with 1 Axes>"
      ]
     },
     "metadata": {},
     "output_type": "display_data"
    }
   ],
   "source": [
    "# Read the CSV files\n",
    "happiness_df = pd.read_csv(\"happiness_2016_2022_US_NL.csv\")\n",
    "drug_use_df = pd.read_csv(\"pre_usa.csv\")\n",
    "\n",
    "# Extract data for the United States\n",
    "usa_happiness = happiness_df[happiness_df[\"Country\"] == \"United States\"]\n",
    "\n",
    "# Plot the data\n",
    "plt.figure(figsize=(12, 8))\n",
    "\n",
    "# Plot Happiness Ranking with thicker line and markers\n",
    "plt.plot(usa_happiness[\"Year\"], usa_happiness[\"Happiness Rank\"], marker='o', markersize=6, label=\"Happiness Rank\", color=\"blue\", linewidth=2.5)\n",
    "\n",
    "# Plot Drug Usage\n",
    "drug_use_columns = [\"16 to 17 years\", \"18 to 25 years\", \"26 to 34 years\", \"Male\", \"Female\"]\n",
    "drug_use_labels = [\"Drug usage 16-17 years\", \"Drug usage 18-25 years\", \"Drug usage 26-34 years\", \"Drug usage Males\", \"Drug usage Females\"]\n",
    "colors = [\"red\", \"green\", \"orange\", \"purple\", \"pink\"]\n",
    "\n",
    "for i, column in enumerate(drug_use_columns):\n",
    "    plt.plot(drug_use_df[\"Year\"], drug_use_df[column], marker='o', markersize=4, label=drug_use_labels[i], color=colors[i], linewidth=2)\n",
    "\n",
    "# Set plot labels and title\n",
    "plt.xlabel(\"Year\")\n",
    "plt.ylabel(\"Happiness Rank / Drug Usage in %\")\n",
    "plt.title(\"Happiness Rank and Drug Usage in the United States (2016-2022)\")\n",
    "plt.legend(loc=\"upper right\", fontsize=10)\n",
    "\n",
    "# Customize grid and ticks\n",
    "plt.grid(True, linestyle='--', linewidth=0.5)\n",
    "\n",
    "# Set background color and spines visibility\n",
    "plt.gca().set_facecolor(\"#F9F9F9\")\n",
    "plt.gca().spines['top'].set_visible(False)\n",
    "plt.gca().spines['right'].set_visible(False)\n",
    "\n",
    "# Add a legend with a white background\n",
    "plt.legend(frameon=True, facecolor=\"white\")\n",
    "\n",
    "# Highlight the happiness rank line by adding a thicker white line behind it\n",
    "plt.plot(usa_happiness[\"Year\"], usa_happiness[\"Happiness Rank\"], color=\"blue\", linewidth=4)\n",
    "\n",
    "# Show the plot\n",
    "plt.tight_layout()\n",
    "plt.show()"
   ]
  },
  {
   "attachments": {},
   "cell_type": "markdown",
   "metadata": {},
   "source": [
    "Figure 4: Happiness score and drug usage in the US in the years 2015 to 2022\n"
   ]
  },
  {
   "attachments": {},
   "cell_type": "markdown",
   "metadata": {},
   "source": [
    "### Argument 2\n",
    "\n",
    "By examining variables such as GDP, freedom, healthcare accessibility, and social support systems, we can identify the potential drivers of drug use. If these factors remain relatively stable over the six-year period, it further supports the argument that drug use is influenced by fators other than happiness alone, and that societal factors influence drug use.\n",
    "\n",
    "Looking at the 2 figures below and comparing them, we can see that the patterns of drug usage, social support and freedom are somewhat similar, meaning that drug usage is indeed influenced by fators other than happiness alone, and that societal factors influence drug use. This can be further confirmed by looking at the Pearson correlation coefficient for example: The Pearson correlation coefficient between Social support and the drug usage from people between 18 to 25 years is 0.797, which means there is a strong correlation."
   ]
  },
  {
   "cell_type": "code",
   "execution_count": 8,
   "metadata": {},
   "outputs": [
    {
     "data": {
      "image/png": "[encoded data removed]",
      "text/plain": [
       "<Figure size 1200x600 with 2 Axes>"
      ]
     },
     "metadata": {},
     "output_type": "display_data"
    }
   ],
   "source": [
    "happiness_df = pd.read_csv(\"happiness_2016_2022_US_NL.csv\")\n",
    "usa_happiness = happiness_df[happiness_df[\"Country\"] == \"United States\"]\n",
    "\n",
    "columns_of_interest = [\"Year\", \"Economy (GDP per Capita)\", \"Trust (Government Corruption)\", \"Freedom\", \"Social support\"]\n",
    "df_subset = usa_happiness[columns_of_interest]\n",
    "df_subset.set_index(\"Year\", inplace=True)\n",
    "fig, axs = plt.subplots(1, 2, figsize=(12, 6))\n",
    "df_subset.plot(kind=\"bar\", ax=axs[0])\n",
    "\n",
    "axs[0].set_xlabel(\"Year\")\n",
    "axs[0].set_ylabel(\"Value\")\n",
    "axs[0].set_title(\"Societal Factors Influencing Happiness in the USA\")\n",
    "\n",
    "drug_use_df = pd.read_csv(\"pre_usa.csv\")\n",
    "drug_use_columns = [\"16 to 17 years\", \"18 to 25 years\", \"26 to 34 years\", \"Male\", \"Female\", \"35 years and over\"]\n",
    "drug_use_labels = [\"Drug usage 16-17 years\", \"Drug usage 18-25 years\", \"Drug usage 26-34 years\", \"Drug usage Males\", \"Drug usage Females\", \"Drug Usage 35 years and over\"]\n",
    "colors = [\"red\", \"green\", \"orange\", \"purple\", \"pink\", \"yellow\"]\n",
    "\n",
    "for i, column in enumerate(drug_use_columns):\n",
    "    axs[1].plot(drug_use_df[\"Year\"], drug_use_df[column], marker='o', markersize=4, label=drug_use_labels[i], color=colors[i], linewidth=2)\n",
    "\n",
    "axs[1].set_xticks(drug_use_df[\"Year\"])\n",
    "axs[1].set_xlabel(\"Year\")\n",
    "axs[1].set_ylabel(\"Drug Usage in %\")\n",
    "axs[1].set_title(\"Drug Usage in the United States (2016-2022)\")\n",
    "axs[1].legend(loc=\"upper left\", bbox_to_anchor=(1, 1), fontsize=8)\n",
    "axs[1].grid(True, linestyle='--', linewidth=0.5, axis='y')\n",
    "axs[1].set_facecolor(\"#F9F9F9\")\n",
    "axs[1].spines['top'].set_visible(False)\n",
    "axs[1].spines['right'].set_visible(False)\n",
    "\n",
    "fig.tight_layout(pad=2)\n",
    "\n",
    "plt.show()\n"
   ]
  },
  {
   "attachments": {},
   "cell_type": "markdown",
   "metadata": {},
   "source": [
    "Figure 5: Societal factors influencing happiness in the USA\n",
    "\n",
    "Figure 6: Drug Usage in the United States (2016-2022)\n"
   ]
  },
  {
   "attachments": {},
   "cell_type": "markdown",
   "metadata": {},
   "source": [
    "# Conclusion\n",
    "\n",
    "Drug use in the Netherlands and the happiness of the country has increased over the years. The increase in both factors would lead to the assumption that there is a correlation between happiness and drug use. However, when looking at a country like the United States of America, there seems to be no apperent correlation. In the United States drug use has not increased significantly, but the happiness has gone up. When looking at the data collected from these two countries it becomes apperant that there is a correlations between drug use and happiness, however not necessarily a causation. \n",
    "\n",
    "The number of highly educated people in the netherlands has increased. Being highly educated coincides with higher pay, better jobs and overall more happiness. The highly educated have also started using more drugs. This shows that those who are happy use more drugs. The same can be said for the wealthy. The number of households with a capital of a million or more has increased. Drug use among these people is also more prevelant. Drug use in the United States has been stable despite the increase in happiness. But when we look at some of the factors that contribute to happiness, namely social support and freedom, we can see a overlap with drug use. \n",
    "\n",
    "Despite the fact that there's no direct cause between happiness and the use of drugs. We can see that some of the factors the which contribute to happiness also have a contribution to the use of drugs. Happiness and drug use is thus linked by a shared contributer."
   ]
  },
  {
   "attachments": {},
   "cell_type": "markdown",
   "metadata": {},
   "source": [
    "# Datasets and pre-processing\n",
    "\n",
    "In our research we use 4 datasets.\n",
    "We used the Happiness ranking published each year by the WHO (World health organization). This dataset contains the ranking of each country adn the scores for the variables that make up this ranking.\n",
    "We used a dataset containg data of drug use in the Netherlands. This dataset is published by CBS and contains the drug use of different age groups, ethnicities, wealth etc.\n",
    "We have a dataset pertaining to drug use in the United States (TO BE CONTinued) \n",
    "\n",
    "\n",
    "The happiness dataset contains 22 variables, 10 of these variables are variables that we can use in our research: \n",
    "\n",
    "* Year \n",
    "\n",
    "* Country \n",
    "\n",
    "* Happiness rank \n",
    "\n",
    "* Happiness score \n",
    "\n",
    "* Economy (GDP per capita) \n",
    "\n",
    "* Social support \n",
    "\n",
    "* Health (life expectancy) \n",
    "\n",
    "* Generosity \n",
    "\n",
    "* Freedom \n",
    "\n",
    "* Trust (Government corruption) \n",
    "\n",
    "\n",
    "\n",
    "\n",
    "De drug dataset that we got form CBS contains 25 variables: \n",
    "\n",
    "* Persoonskenmerken  \n",
    "\n",
    "* Marges, \n",
    "\n",
    "* Perioden, \n",
    "\n",
    "* \"Rookgedrag, 12 jaar of ouder/Rookstatus/Rokers (%)\", \n",
    "\n",
    "* \"Rookgedrag, 12 jaar of ouder/Rookstatus/Ex-rokers (%)\", \n",
    "\n",
    "* \"Rookgedrag, 12 jaar of ouder/Rookstatus/Nooit-rokers (%)\", \n",
    "\n",
    "* \"Rookgedrag, 12 jaar of ouder/Rokers/Dagelijkse rokers onder bevolking (%)\", \n",
    "\n",
    "* \"Rookgedrag, 12 jaar of ouder/Rokers/Dagelijkse rokers onder rokers (%)\", \n",
    "\n",
    "* \"Rookgedrag, 12 jaar of ouder/Rokers/Zware rokers onder bevolking (%)\", \n",
    "\n",
    "* \"Rookgedrag, 12 jaar of ouder/Rokers/Zware rokers onder rokers (%)\", \n",
    "\n",
    "* \"Rookgedrag, 12 jaar of ouder/Sigarettenrokers/Sigarettenrokers (%)\", \n",
    "\n",
    "* \"Rookgedrag, 12 jaar of ouder/Sigarettenrokers/Sigaretten per dag per roker  (aantal)\", \n",
    "\n",
    "* \"Rookgedrag, 12 jaar of ouder/Sigarettenrokers/Rookjaren huidige sigarettenrokers (aantal)\", \n",
    "\n",
    "* \"Rookgedrag, 12 jaar of ouder/Sigarettenrokers/Stoppoging in afgelopen 12 maanden (%)\", \n",
    "\n",
    "* \"Rookgedrag, 12 jaar of ouder/Ex-sigarettenrokers/Rookjaren ex-sigarettenrokers (aantal)\", \n",
    "\n",
    "* \"Rookgedrag, 12 jaar of ouder/Ex-sigarettenrokers/Stopjaren ex-sigarettenrokers (aantal)\", \n",
    "\n",
    "* Meeroken onder niet-rokers/(Bijna) nooit (%),\"Alcoholgebruik, 12 jaar of ouder/Drinkers/Glazen alcohol per dag per drinker (aantal)\", \n",
    "\n",
    "* \"Drugsgebruik, 12 jaar of ouder/Cannabisgebruik/Afgelopen jaar (%)\", \n",
    "\n",
    "* \"Drugsgebruik, 12 jaar of ouder/Amfetaminegebruik/Afgelopen jaar (%)\", \n",
    "\n",
    "* \"Drugsgebruik, 12 jaar of ouder/Ecstasygebruik/Afgelopen jaar (%)\", \n",
    "\n",
    "* \"Drugsgebruik, 12 jaar of ouder/Cocaïnegebruik/Afgelopen jaar (%)\", \n",
    "\n",
    "* \"Drugsgebruik, 12 jaar of ouder/Gebruik overige drugs/Afgelopen jaar (%)\", \n",
    "\n",
    "* \"Drugsgebruik, 12 jaar of ouder/Drugsgebruik totaal/Afgelopen jaar (%)\", \n",
    "\n",
    "* \"Lengte en gewicht/Opgegeven gewicht, 18 jaar of ouder (aantal)\" \n",
    "\n",
    "This dataset contains information about different groups of dutch citizens and their choices in drug use. \n",
    "\n",
    "\n",
    "In order to analyse the data, we had to pre-process some of the datasets. Both the datasets from CBS and from WHO were split up in years. In order to use the datasets in our project we had to merge the rows of the years we needed. Each year in the happiness index had the same variables, but the variable names were different. In order to merge the datasets, we changed the names in each year to match the other years.  \n",
    "\n",
    "We merged the rows of the happiness dataset pertaining to the Netherlands and Greece. This new dataset was exported to a CSV-file.  \n",
    "\n",
    "The merging and exporting of the datasets was done using the python pandas library.  \n",
    "\n",
    " \n",
    "\n",
    " "
   ]
  },
  {
   "attachments": {},
   "cell_type": "markdown",
   "metadata": {},
   "source": [
    "# References\n",
    "Babor, T. F., Caulkins, J. P., Edwards, G., Fischer, B., Foxcroft, D. R., Humphreys, K., ... & Reuter, P. (2010). Drug policy and the public good.\n",
    "\n",
    "Azofeifa, A., Mattson, M. E., Schauer, G., McAfee, T., Grant, A., & Lyerla, R. (2016). National estimates of marijuana use and related indicators—National Survey on Drug Use and Health, United States, 2002–2014. Morbidity and Mortality Weekly Report: Surveillance Summaries, 65(11), 1-25.\n",
    "\n",
    "Ruiu, G., Ruiu, M.L. The Complex Relationship Between Education and Happiness: The Case of Highly Educated Individuals in Italy. J Happiness Stud 20, 2631–2653 (2019). https://doi.org/10.1007/s10902-018-0062-4\n",
    "\n",
    "Hoogst behaald onderwijsniveau. (2023). Ocwincijfers.nl. https://www.ocwincijfers.nl/sectoren/onderwijs-algemeen/hoogst-behaald-onderwijsniveau#:~:text=Hoogopgeleide%2025%2D%20tot%2035%2Djarigen%20naar%20mannen%20en%20vrouwen,-Line%20chart%20with&text=In%202022%20was%2056%25%20van,2022%20ging%20het%20om%2061%25.\n",
    "\n"
   ]
  }
 ],
 "metadata": {
  "kernelspec": {
   "display_name": "Python 3 (ipykernel)",
   "language": "python",
   "name": "python3"
  },
  "language_info": {
   "codemirror_mode": {
    "name": "ipython",
    "version": 3
   },
   "file_extension": ".py",
   "mimetype": "text/x-python",
   "name": "python",
   "nbconvert_exporter": "python",
   "pygments_lexer": "ipython3",
   "version": "3.11.3"
  }
 },
 "nbformat": 4,
 "nbformat_minor": 2
}
