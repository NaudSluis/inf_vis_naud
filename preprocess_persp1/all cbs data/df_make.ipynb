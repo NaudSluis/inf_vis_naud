{
 "cells": [
  {
   "cell_type": "code",
   "execution_count": 8,
   "metadata": {},
   "outputs": [],
   "source": [
    "import csv\n",
    "\n",
    "\n",
    "\n",
    "input_file = \"2022.csv\"\n",
    "output_file = \"cbs_2022.csv\"\n",
    "\n",
    "with open(input_file, \"r\") as file:\n",
    "    reader = csv.reader(file, delimiter=\";\")\n",
    "    rows = list(reader)\n",
    "\n",
    "with open(output_file, \"w\", newline=\"\") as file:\n",
    "    writer = csv.writer(file)\n",
    "    writer.writerows(rows)"
   ]
  },
  {
   "cell_type": "code",
   "execution_count": 9,
   "metadata": {},
   "outputs": [],
   "source": [
    "# Import packages\n",
    "import pandas as pd\n",
    "import plotly.express as px\n",
    "import seaborn as sns\n",
    "from matplotlib import pyplot as plt"
   ]
  },
  {
   "cell_type": "code",
   "execution_count": 10,
   "metadata": {},
   "outputs": [],
   "source": [
    "df_2016 = pd.read_csv('cbs_2016.csv')\n",
    "df_2017 = pd.read_csv('cbs_2017.csv')\n",
    "df_2018 = pd.read_csv('cbs_2018.csv')\n",
    "df_2019 = pd.read_csv('cbs_2019.csv')\n",
    "df_2020 = pd.read_csv('cbs_2020.csv')\n",
    "df_2021 = pd.read_csv('cbs_2021.csv')\n",
    "df_2022 = pd.read_csv('cbs_2022.csv')"
   ]
  },
  {
   "cell_type": "code",
   "execution_count": 11,
   "metadata": {},
   "outputs": [],
   "source": [
    "df_cbs = pd.concat([df_2016, df_2017, df_2018, df_2019, df_2020, df_2021, df_2022], ignore_index=True)"
   ]
  },
  {
   "cell_type": "code",
   "execution_count": 14,
   "metadata": {},
   "outputs": [],
   "source": [
    "df_cbs.to_csv('cbs_dataset.csv', index=False)"
   ]
  },
  {
   "cell_type": "code",
   "execution_count": null,
   "metadata": {},
   "outputs": [],
   "source": []
  }
 ],
 "metadata": {
  "kernelspec": {
   "display_name": "jupyterbook",
   "language": "python",
   "name": "python3"
  },
  "language_info": {
   "codemirror_mode": {
    "name": "ipython",
    "version": 3
   },
   "file_extension": ".py",
   "mimetype": "text/x-python",
   "name": "python",
   "nbconvert_exporter": "python",
   "pygments_lexer": "ipython3",
   "version": "3.11.3"
  },
  "orig_nbformat": 4
 },
 "nbformat": 4,
 "nbformat_minor": 2
}
